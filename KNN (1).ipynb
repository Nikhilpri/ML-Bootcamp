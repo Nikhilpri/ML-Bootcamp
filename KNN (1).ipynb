{
 "cells": [
  {
   "cell_type": "code",
   "execution_count": 1,
   "id": "f3e6d6a0",
   "metadata": {},
   "outputs": [],
   "source": [
    "import numpy as np\n",
    "import pandas as pd\n",
    "import matplotlib.pyplot as plt\n",
    "data_train= pd.read_csv('C:\\\\Users\\\\nikhi\\\\Downloads\\\\emnist-letters-train.csv', header = None)\n",
    "data_test=pd.read_csv('C:\\\\Users\\\\nikhi\\\\Downloads\\\\emnist-letters-test.csv')"
   ]
  },
  {
   "cell_type": "code",
   "execution_count": 4,
   "id": "e2bb796f",
   "metadata": {},
   "outputs": [],
   "source": [
    "data_test=np.array(data_test)\n",
    "m, n = data_test.shape\n",
    "data_test = data_test[0:m].T\n",
    "Y_test = data_test[0]\n",
    "X_test = data_test[1:n]\n",
    "X_test=X_test.T        \n",
    "\n",
    "\n",
    "data_train=np.array(data_train)\n",
    "p,q=data_train.shape\n",
    "data_train = data_train[0:p].T\n",
    "Y_train = data_train[0]  \n",
    "X_train = data_train[1:q]\n",
    "X_train=X_train.T\n",
    "a,b=X_train.shape"
   ]
  },
  {
   "cell_type": "code",
   "execution_count": null,
   "id": "82f70ac8",
   "metadata": {},
   "outputs": [],
   "source": [
    "def euclidean_dis(x1,x2):\n",
    "    return np.sqrt(np.sum((x1-x2)**2))\n",
    "def KNN(X,Y,x,k=5):\n",
    "    m=X.shape[0]\n",
    "    val=[]\n",
    "    for i in range(m):\n",
    "        x_i=X[i]\n",
    "        dis=euclidean_dis(x,x_i)\n",
    "        val.append((dis,Y[i]))\n",
    "    val=sorted(val,key = lambda x:x[0])[:k]\n",
    "    val=np.asarray(val)\n",
    "    new_val=np.unique(val[:,1],return_counts=True)\n",
    "    index=new_val[1].argmax()\n",
    "    output=new_val[0][index]\n",
    "    return output\n",
    "def ploting(n):\n",
    "    print(KNN(X_train,Y_train,X_test[n]))\n",
    "    print(\"label :\",Y_test[n])\n",
    "   \n",
    "def Y_pred(X,Y,x):\n",
    "    Y_out=[]\n",
    "    for i in range(n):\n",
    "            Y_pred=KNN(X,Y,x[i])\n",
    "            Y_out.append(Y_pred)\n",
    "    return Y_out\n",
    "Y_pred=Y_pred(X_train,Y_train,X_test)\n",
    "def get_accuracy(Y):\n",
    "    predictions=Y_pre\n",
    "    count=0\n",
    "    for i in range(n): \n",
    "        if(predictions[i]==Y[i]):\n",
    "            count+=1\n",
    "    return count/n\n",
    "print(Y_pred(X_train,Y_train,X_test))\n",
    "get_accuracy(Y_test)"
   ]
  },
  {
   "cell_type": "code",
   "execution_count": null,
   "id": "c1987bc2",
   "metadata": {},
   "outputs": [],
   "source": [
    "X=X_test[:,0:]\n",
    "X_test=np.reshape(X,(-1,28,28))\n",
    "plt.imshow(X_test[1760],cmap=plt.get_cmap('green'))"
   ]
  },
  {
   "cell_type": "code",
   "execution_count": null,
   "id": "6b79f617",
   "metadata": {},
   "outputs": [],
   "source": [
    "from sklearn.metrics import accuracy_score\n",
    "print (\"Accuracy of the model is:\", accuracy_score(Y_pred, Y_test)*100, \"%\")"
   ]
  }
 ],
 "metadata": {
  "kernelspec": {
   "display_name": "Python 3 (ipykernel)",
   "language": "python",
   "name": "python3"
  },
  "language_info": {
   "codemirror_mode": {
    "name": "ipython",
    "version": 3
   },
   "file_extension": ".py",
   "mimetype": "text/x-python",
   "name": "python",
   "nbconvert_exporter": "python",
   "pygments_lexer": "ipython3",
   "version": "3.9.7"
  }
 },
 "nbformat": 4,
 "nbformat_minor": 5
}
