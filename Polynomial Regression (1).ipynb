{
 "cells": [
  {
   "cell_type": "code",
   "execution_count": 203,
   "id": "c0b460c1",
   "metadata": {},
   "outputs": [
    {
     "data": {
      "text/html": [
       "<div>\n",
       "<style scoped>\n",
       "    .dataframe tbody tr th:only-of-type {\n",
       "        vertical-align: middle;\n",
       "    }\n",
       "\n",
       "    .dataframe tbody tr th {\n",
       "        vertical-align: top;\n",
       "    }\n",
       "\n",
       "    .dataframe thead th {\n",
       "        text-align: right;\n",
       "    }\n",
       "</style>\n",
       "<table border=\"1\" class=\"dataframe\">\n",
       "  <thead>\n",
       "    <tr style=\"text-align: right;\">\n",
       "      <th></th>\n",
       "      <th>Unnamed: 0</th>\n",
       "      <th>X</th>\n",
       "      <th>Y</th>\n",
       "      <th>Z</th>\n",
       "      <th>label</th>\n",
       "    </tr>\n",
       "  </thead>\n",
       "  <tbody>\n",
       "    <tr>\n",
       "      <th>0</th>\n",
       "      <td>0</td>\n",
       "      <td>9.322078</td>\n",
       "      <td>0.413096</td>\n",
       "      <td>5.984731</td>\n",
       "      <td>-657.669309</td>\n",
       "    </tr>\n",
       "    <tr>\n",
       "      <th>1</th>\n",
       "      <td>1</td>\n",
       "      <td>2.811964</td>\n",
       "      <td>6.142752</td>\n",
       "      <td>6.419237</td>\n",
       "      <td>-545.362524</td>\n",
       "    </tr>\n",
       "    <tr>\n",
       "      <th>2</th>\n",
       "      <td>2</td>\n",
       "      <td>-2.669784</td>\n",
       "      <td>7.775091</td>\n",
       "      <td>-6.931907</td>\n",
       "      <td>-75.044187</td>\n",
       "    </tr>\n",
       "    <tr>\n",
       "      <th>3</th>\n",
       "      <td>3</td>\n",
       "      <td>-6.992156</td>\n",
       "      <td>-9.205548</td>\n",
       "      <td>0.852580</td>\n",
       "      <td>-2403.124902</td>\n",
       "    </tr>\n",
       "    <tr>\n",
       "      <th>4</th>\n",
       "      <td>4</td>\n",
       "      <td>1.574294</td>\n",
       "      <td>-2.213266</td>\n",
       "      <td>6.029188</td>\n",
       "      <td>8.595325</td>\n",
       "    </tr>\n",
       "    <tr>\n",
       "      <th>...</th>\n",
       "      <td>...</td>\n",
       "      <td>...</td>\n",
       "      <td>...</td>\n",
       "      <td>...</td>\n",
       "      <td>...</td>\n",
       "    </tr>\n",
       "    <tr>\n",
       "      <th>9995</th>\n",
       "      <td>9995</td>\n",
       "      <td>-0.992449</td>\n",
       "      <td>-7.853677</td>\n",
       "      <td>7.748156</td>\n",
       "      <td>-635.006038</td>\n",
       "    </tr>\n",
       "    <tr>\n",
       "      <th>9996</th>\n",
       "      <td>9996</td>\n",
       "      <td>8.574451</td>\n",
       "      <td>6.271919</td>\n",
       "      <td>-5.734962</td>\n",
       "      <td>-1275.855209</td>\n",
       "    </tr>\n",
       "    <tr>\n",
       "      <th>9997</th>\n",
       "      <td>9997</td>\n",
       "      <td>6.640997</td>\n",
       "      <td>6.864877</td>\n",
       "      <td>4.511685</td>\n",
       "      <td>-1771.640694</td>\n",
       "    </tr>\n",
       "    <tr>\n",
       "      <th>9998</th>\n",
       "      <td>9998</td>\n",
       "      <td>-6.262414</td>\n",
       "      <td>1.323203</td>\n",
       "      <td>-3.917748</td>\n",
       "      <td>-22.746921</td>\n",
       "    </tr>\n",
       "    <tr>\n",
       "      <th>9999</th>\n",
       "      <td>9999</td>\n",
       "      <td>8.289792</td>\n",
       "      <td>-0.371541</td>\n",
       "      <td>2.099039</td>\n",
       "      <td>-64.853446</td>\n",
       "    </tr>\n",
       "  </tbody>\n",
       "</table>\n",
       "<p>10000 rows × 5 columns</p>\n",
       "</div>"
      ],
      "text/plain": [
       "      Unnamed: 0         X         Y         Z        label\n",
       "0              0  9.322078  0.413096  5.984731  -657.669309\n",
       "1              1  2.811964  6.142752  6.419237  -545.362524\n",
       "2              2 -2.669784  7.775091 -6.931907   -75.044187\n",
       "3              3 -6.992156 -9.205548  0.852580 -2403.124902\n",
       "4              4  1.574294 -2.213266  6.029188     8.595325\n",
       "...          ...       ...       ...       ...          ...\n",
       "9995        9995 -0.992449 -7.853677  7.748156  -635.006038\n",
       "9996        9996  8.574451  6.271919 -5.734962 -1275.855209\n",
       "9997        9997  6.640997  6.864877  4.511685 -1771.640694\n",
       "9998        9998 -6.262414  1.323203 -3.917748   -22.746921\n",
       "9999        9999  8.289792 -0.371541  2.099039   -64.853446\n",
       "\n",
       "[10000 rows x 5 columns]"
      ]
     },
     "execution_count": 203,
     "metadata": {},
     "output_type": "execute_result"
    }
   ],
   "source": [
    "import numpy as np\n",
    "import pandas as pd\n",
    "import matplotlib.pyplot as plt\n",
    "data1=pd.read_csv(\"C:\\\\Users\\\\nikhi\\\\Downloads\\\\Polynomial_train.csv\")\n",
    "data1\n",
    "data2=pd.read_csv(\"C:\\\\Users\\\\nikhi\\\\Downloads\\\\Polynomial_test.csv\")\n",
    "data2"
   ]
  },
  {
   "cell_type": "code",
   "execution_count": 209,
   "id": "4e2783eb",
   "metadata": {},
   "outputs": [
    {
     "name": "stdout",
     "output_type": "stream",
     "text": [
      "Cost is : 727099.5504780577\n",
      "Cost is : 250761.46134490328\n",
      "Cost is : 92141.90088437934\n",
      "Cost is : 36035.511955726775\n",
      "Cost is : 15129.409641537832\n",
      "Cost is : 6919.033489901728\n",
      "Cost is : 3491.5038558401957\n",
      "Cost is : 1948.5172981779658\n",
      "Cost is : 1188.2829666779132\n",
      "Cost is : 775.418108319842\n",
      "24.91085909572673\n",
      "32.55314460699143\n"
     ]
    },
    {
     "data": {
      "text/plain": [
       "0.9992710293738281"
      ]
     },
     "execution_count": 209,
     "metadata": {},
     "output_type": "execute_result"
    },
    {
     "data": {
      "image/png": "[encoded data removed]",
      "text/plain": [
       "<Figure size 432x288 with 1 Axes>"
      ]
     },
     "metadata": {
      "needs_background": "light"
     },
     "output_type": "display_data"
    }
   ],
   "source": [
    "A = data1.drop(data1.columns[[0]], axis=1) \n",
    "B = data2.drop(data1.columns[[0]], axis=1)\n",
    "train_data = data1.values\n",
    "Y = train_data[:, -1].reshape(train_data.shape[0], 1)  #Labels of Training dataset\n",
    "test_data = data2.values\n",
    "Y_test = test_data[:, -1].reshape(test_data.shape[0], 1)   #Labels of Testing dataset\n",
    "n = np.square(A)\n",
    "A = np.concatenate((A, n), axis=1)\n",
    "\n",
    "m = np.square(B)\n",
    "B = np.concatenate((B, m), axis=1)\n",
    "mean = np.mean(A, axis=0)\n",
    "std = np.std(A, axis=0)\n",
    "train_f = (A - mean)/std\n",
    "train_f                     #Normalized features of training set\n",
    "\n",
    "mean_test = np.mean(B, axis=0)\n",
    "std = np.std(B, axis=0)\n",
    "test_f = (B - mean_test)/std\n",
    "test_f                     #Normalized features of testing set\n",
    "#Adding column of ones before all the Features\n",
    "train_f = np.vstack((np.ones((train_f.shape[0], )), train_f.T)).T\n",
    "test_f = np.vstack((np.ones((test_f.shape[0], )), test_f.T)).T\n",
    "def PolynomialRegression(X, Y, lr, iter):\n",
    "    m = Y.size\n",
    "    theta = np.zeros((X.shape[1], 1))\n",
    "    cost_list = []\n",
    "    for i in range(iter):        \n",
    "        y_p = np.dot(X, theta)\n",
    "        \n",
    "        #Cost Function\n",
    "        cost = (1/(2*m))*np.sum(np.square(y_p - Y))\n",
    "        \n",
    "        #Gradient Descent\n",
    "        d_theta = (np.dot(X.T, y_p - Y))*(1/m)\n",
    "        theta = theta - lr*d_theta\n",
    "        \n",
    "        cost_list.append(cost)\n",
    "        if (i%(iter/10) == 0):\n",
    "            print(\"Cost is :\", cost)\n",
    "        \n",
    "    return theta, cost_list\n",
    "iter = 100\n",
    "lr = 0.05\n",
    "theta, cost_list = PolynomialRegression(test_f, Y_test, lr = lr, iter = iter)\n",
    "plt.plot(test_f, Y_test, 'rx')\n",
    "y_p = np.dot(test_f, theta)\n",
    "y_p = np.dot(test_f, theta)\n",
    "error = (1/test_f.shape[0])*(np.sum(np.abs(y_p - Y_test)))\n",
    "print(error)\n",
    "m = Y_test.size\n",
    "rmse = np.sqrt(np.sum(np.square(y_p - Y_test))/m)\n",
    "print(rmse)\n",
    "\n",
    "r2_score(Y_test, y_p)\n"
   ]
  },
  {
   "cell_type": "code",
   "execution_count": 207,
   "id": "6661531f",
   "metadata": {},
   "outputs": [
    {
     "data": {
      "text/plain": [
       "<function sklearn.metrics._regression.r2_score(y_true, y_pred, *, sample_weight=None, multioutput='uniform_average')>"
      ]
     },
     "execution_count": 207,
     "metadata": {},
     "output_type": "execute_result"
    }
   ],
   "source": [
    "r2_score"
   ]
  },
  {
   "cell_type": "code",
   "execution_count": null,
   "id": "37eb8be1",
   "metadata": {},
   "outputs": [],
   "source": []
  }
 ],
 "metadata": {
  "kernelspec": {
   "display_name": "Python 3 (ipykernel)",
   "language": "python",
   "name": "python3"
  },
  "language_info": {
   "codemirror_mode": {
    "name": "ipython",
    "version": 3
   },
   "file_extension": ".py",
   "mimetype": "text/x-python",
   "name": "python",
   "nbconvert_exporter": "python",
   "pygments_lexer": "ipython3",
   "version": "3.9.7"
  }
 },
 "nbformat": 4,
 "nbformat_minor": 5
}
