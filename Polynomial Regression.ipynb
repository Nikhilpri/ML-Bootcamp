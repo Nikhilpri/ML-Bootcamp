{
 "cells": [
  {
   "cell_type": "code",
   "execution_count": 1,
   "id": "c0b460c1",
   "metadata": {},
   "outputs": [
    {
     "data": {
      "text/html": [
       "<div>\n",
       "<style scoped>\n",
       "    .dataframe tbody tr th:only-of-type {\n",
       "        vertical-align: middle;\n",
       "    }\n",
       "\n",
       "    .dataframe tbody tr th {\n",
       "        vertical-align: top;\n",
       "    }\n",
       "\n",
       "    .dataframe thead th {\n",
       "        text-align: right;\n",
       "    }\n",
       "</style>\n",
       "<table border=\"1\" class=\"dataframe\">\n",
       "  <thead>\n",
       "    <tr style=\"text-align: right;\">\n",
       "      <th></th>\n",
       "      <th>Unnamed: 0</th>\n",
       "      <th>X</th>\n",
       "      <th>Y</th>\n",
       "      <th>Z</th>\n",
       "      <th>label</th>\n",
       "    </tr>\n",
       "  </thead>\n",
       "  <tbody>\n",
       "    <tr>\n",
       "      <th>0</th>\n",
       "      <td>0</td>\n",
       "      <td>9.322078</td>\n",
       "      <td>0.413096</td>\n",
       "      <td>5.984731</td>\n",
       "      <td>-657.669309</td>\n",
       "    </tr>\n",
       "    <tr>\n",
       "      <th>1</th>\n",
       "      <td>1</td>\n",
       "      <td>2.811964</td>\n",
       "      <td>6.142752</td>\n",
       "      <td>6.419237</td>\n",
       "      <td>-545.362524</td>\n",
       "    </tr>\n",
       "    <tr>\n",
       "      <th>2</th>\n",
       "      <td>2</td>\n",
       "      <td>-2.669784</td>\n",
       "      <td>7.775091</td>\n",
       "      <td>-6.931907</td>\n",
       "      <td>-75.044187</td>\n",
       "    </tr>\n",
       "    <tr>\n",
       "      <th>3</th>\n",
       "      <td>3</td>\n",
       "      <td>-6.992156</td>\n",
       "      <td>-9.205548</td>\n",
       "      <td>0.852580</td>\n",
       "      <td>-2403.124902</td>\n",
       "    </tr>\n",
       "    <tr>\n",
       "      <th>4</th>\n",
       "      <td>4</td>\n",
       "      <td>1.574294</td>\n",
       "      <td>-2.213266</td>\n",
       "      <td>6.029188</td>\n",
       "      <td>8.595325</td>\n",
       "    </tr>\n",
       "    <tr>\n",
       "      <th>...</th>\n",
       "      <td>...</td>\n",
       "      <td>...</td>\n",
       "      <td>...</td>\n",
       "      <td>...</td>\n",
       "      <td>...</td>\n",
       "    </tr>\n",
       "    <tr>\n",
       "      <th>9995</th>\n",
       "      <td>9995</td>\n",
       "      <td>-0.992449</td>\n",
       "      <td>-7.853677</td>\n",
       "      <td>7.748156</td>\n",
       "      <td>-635.006038</td>\n",
       "    </tr>\n",
       "    <tr>\n",
       "      <th>9996</th>\n",
       "      <td>9996</td>\n",
       "      <td>8.574451</td>\n",
       "      <td>6.271919</td>\n",
       "      <td>-5.734962</td>\n",
       "      <td>-1275.855209</td>\n",
       "    </tr>\n",
       "    <tr>\n",
       "      <th>9997</th>\n",
       "      <td>9997</td>\n",
       "      <td>6.640997</td>\n",
       "      <td>6.864877</td>\n",
       "      <td>4.511685</td>\n",
       "      <td>-1771.640694</td>\n",
       "    </tr>\n",
       "    <tr>\n",
       "      <th>9998</th>\n",
       "      <td>9998</td>\n",
       "      <td>-6.262414</td>\n",
       "      <td>1.323203</td>\n",
       "      <td>-3.917748</td>\n",
       "      <td>-22.746921</td>\n",
       "    </tr>\n",
       "    <tr>\n",
       "      <th>9999</th>\n",
       "      <td>9999</td>\n",
       "      <td>8.289792</td>\n",
       "      <td>-0.371541</td>\n",
       "      <td>2.099039</td>\n",
       "      <td>-64.853446</td>\n",
       "    </tr>\n",
       "  </tbody>\n",
       "</table>\n",
       "<p>10000 rows × 5 columns</p>\n",
       "</div>"
      ],
      "text/plain": [
       "      Unnamed: 0         X         Y         Z        label\n",
       "0              0  9.322078  0.413096  5.984731  -657.669309\n",
       "1              1  2.811964  6.142752  6.419237  -545.362524\n",
       "2              2 -2.669784  7.775091 -6.931907   -75.044187\n",
       "3              3 -6.992156 -9.205548  0.852580 -2403.124902\n",
       "4              4  1.574294 -2.213266  6.029188     8.595325\n",
       "...          ...       ...       ...       ...          ...\n",
       "9995        9995 -0.992449 -7.853677  7.748156  -635.006038\n",
       "9996        9996  8.574451  6.271919 -5.734962 -1275.855209\n",
       "9997        9997  6.640997  6.864877  4.511685 -1771.640694\n",
       "9998        9998 -6.262414  1.323203 -3.917748   -22.746921\n",
       "9999        9999  8.289792 -0.371541  2.099039   -64.853446\n",
       "\n",
       "[10000 rows x 5 columns]"
      ]
     },
     "execution_count": 1,
     "metadata": {},
     "output_type": "execute_result"
    }
   ],
   "source": [
    "import numpy as np\n",
    "import pandas as pd\n",
    "import matplotlib.pyplot as plt\n",
    "data=pd.read_csv(\"C:\\\\Users\\\\nikhi\\\\Downloads\\\\Polynomial_train.csv\")\n",
    "data\n",
    "data_test=pd.read_csv(\"C:\\\\Users\\\\nikhi\\\\Downloads\\\\Polynomial_test.csv\")\n",
    "data_test"
   ]
  },
  {
   "cell_type": "code",
   "execution_count": 2,
   "id": "72882109",
   "metadata": {},
   "outputs": [
    {
     "data": {
      "text/plain": [
       "[<matplotlib.lines.Line2D at 0x19fa7cd8a90>]"
      ]
     },
     "execution_count": 2,
     "metadata": {},
     "output_type": "execute_result"
    },
    {
     "data": {
      "image/png": "[encoded data removed]",
      "text/plain": [
       "<Figure size 432x288 with 1 Axes>"
      ]
     },
     "metadata": {
      "needs_background": "light"
     },
     "output_type": "display_data"
    }
   ],
   "source": [
    "x_train=data.loc[:,'X':'Z']\n",
    "y_train=data.loc[:,'label']\n",
    "n=np.square(x_train)\n",
    "x_train=np.concatenate((x_train,n),axis=1)\n",
    "\n",
    "#Normalization\n",
    "def normx(x_train):\n",
    "    mean=np.mean(x_train,axis=0)\n",
    "    std=np.std(x_train,axis=0)\n",
    "    value=(x_train-mean)/std\n",
    "    return value\n",
    "x_train=normx(x_train)\n",
    "y_train=normx(y_train)\n",
    "m=len(x_train)\n",
    "x_train=np.c_[np.ones(m), x_train]\n",
    "theta=np.zeros(x_train.shape[1])\n",
    "\n",
    "def hypothesis(x_train,theta):\n",
    "    htheta=np.dot(x_train,theta)\n",
    "    return htheta\n",
    "def cost_function(x_train,y_train,theta):\n",
    "    htheta=hypothesis(x_train,theta)\n",
    "    cost=(1/(2*m))*(np.sum(np.square(htheta-y_train)))\n",
    "    return cost\n",
    "def gradientdescent(x_train,y_train,theta,alpha,iters):\n",
    "    m=len(y_train)\n",
    "    theta=np.zeros(x_train.shape[1])\n",
    "    cost_arr=[]\n",
    "    for i in range(iters):\n",
    "        cost=cost_function(x_train,y_train,theta)\n",
    "        htheta=hypothesis(x_train,theta)\n",
    "        dcost=(1/m)*(np.dot(x_train.T,htheta-y_train))\n",
    "        theta=theta-alpha*dcost\n",
    "        cost_arr.append(cost)\n",
    "    return theta,cost_arr\n",
    "iters=10000\n",
    "alpha=0.01\n",
    "[theta,cost_arr]=gradientdescent(x_train,y_train,theta,alpha,iters)\n",
    "\n",
    "plt.plot(cost_arr)\n"
   ]
  },
  {
   "cell_type": "code",
   "execution_count": 3,
   "id": "9daa7507",
   "metadata": {},
   "outputs": [
    {
     "data": {
      "text/plain": [
       "[<matplotlib.lines.Line2D at 0x19fa8825c40>,\n",
       " <matplotlib.lines.Line2D at 0x19fa8825c70>,\n",
       " <matplotlib.lines.Line2D at 0x19fa8825e50>,\n",
       " <matplotlib.lines.Line2D at 0x19fa8825f70>,\n",
       " <matplotlib.lines.Line2D at 0x19fa88370d0>,\n",
       " <matplotlib.lines.Line2D at 0x19fa88371f0>,\n",
       " <matplotlib.lines.Line2D at 0x19fa8837310>]"
      ]
     },
     "execution_count": 3,
     "metadata": {},
     "output_type": "execute_result"
    },
    {
     "data": {
      "image/png": "[encoded data removed]",
      "text/plain": [
       "<Figure size 432x288 with 1 Axes>"
      ]
     },
     "metadata": {
      "needs_background": "light"
     },
     "output_type": "display_data"
    }
   ],
   "source": [
    "plt.plot(x_train,y_train,'rx')\n"
   ]
  },
  {
   "cell_type": "code",
   "execution_count": 4,
   "id": "a44bb390",
   "metadata": {},
   "outputs": [
    {
     "name": "stdout",
     "output_type": "stream",
     "text": [
      "78.59432149404275\n"
     ]
    }
   ],
   "source": [
    "#Accuracy\n",
    "X_test=data_test.drop(['Unnamed: 0','label'], axis=1)\n",
    "Y_test=data_test.loc[:,'label']\n",
    "X_test=(X_test-X_test.mean())/X_test.std()\n",
    "Y_test=(X_test-Y_test.mean())/Y_test.std()\n",
    "M=len(X_test)\n",
    "X_test=np.c_[np.ones(M), X_test]\n",
    "Y_test=np.c_[np.ones(M), Y_test]\n",
    "X_mean=np.mean(X_test)\n",
    "Y_mean=np.mean(Y_test)\n",
    "numer=0\n",
    "denom=0\n",
    "for i in range(M):\n",
    "    numer+=(X_test[i]-X_mean)*(Y_test-Y_mean)\n",
    "    denom+=(X_test[i]-X_mean)**2\n",
    "b1=numer/denom\n",
    "b0=Y_mean-(b1*X_mean)\n",
    "b2=(Y_mean-(b1*X_mean)-b0)/(X_mean**2)\n",
    "y_pred=b0+b1*X_test[i]+b2*(X_test[i])**2\n",
    "\n",
    "rmse = np.sqrt(np.sum(np.square(y_pred - Y_test))/m)\n",
    "Accuracy=(1-rmse)*100\n",
    "print(Accuracy)\n"
   ]
  }
 ],
 "metadata": {
  "kernelspec": {
   "display_name": "Python 3 (ipykernel)",
   "language": "python",
   "name": "python3"
  },
  "language_info": {
   "codemirror_mode": {
    "name": "ipython",
    "version": 3
   },
   "file_extension": ".py",
   "mimetype": "text/x-python",
   "name": "python",
   "nbconvert_exporter": "python",
   "pygments_lexer": "ipython3",
   "version": "3.9.7"
  }
 },
 "nbformat": 4,
 "nbformat_minor": 5
}
